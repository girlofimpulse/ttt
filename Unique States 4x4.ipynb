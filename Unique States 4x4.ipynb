{
 "cells": [
  {
   "cell_type": "code",
   "execution_count": 1,
   "metadata": {},
   "outputs": [],
   "source": [
    "import numpy as np \n",
    "import pandas as pd "
   ]
  },
  {
   "cell_type": "code",
   "execution_count": 2,
   "metadata": {},
   "outputs": [],
   "source": [
    "cnt = 0\n",
    "results = {}\n",
    "ans = []"
   ]
  },
  {
   "cell_type": "code",
   "execution_count": 3,
   "metadata": {},
   "outputs": [],
   "source": [
    "def dfs(state, cur):\n",
    "    global cnt, results, ans\n",
    "    if tuple(state) in results.keys():\n",
    "        return\n",
    "    cnt += 1\n",
    "    ans.append(tuple(state))\n",
    "    ex_states = ex(state)\n",
    "    for ex_state in ex_states:\n",
    "        results[tuple(ex_state)] = True\n",
    "    if is_win(state):\n",
    "        return\n",
    "    for i in range(0,16):####################################################\n",
    "        if state[i] == 0:\n",
    "            state[i] = 1 if cur else 2\n",
    "            dfs(state, not cur)\n",
    "            state[i] = 0\n"
   ]
  },
  {
   "cell_type": "code",
   "execution_count": 4,
   "metadata": {},
   "outputs": [],
   "source": [
    "def ex(state):\n",
    "    ex_states = []\n",
    "    ex_strategys = [[0,1,2,3,4,5,6,7,8,9,10,11,12,13,14,15], #ori\n",
    "                  [3,2,1,0,7,6,5,4,11,10,9,8,15,14,13,12], #symmetry y-axis\n",
    "                  [12,13,14,15,8,9,10,11,4,5,6,7,0,1,2,3], #symmetry x-axis\n",
    "                  [12,8,4,0,13,9,5,1,14,10,6,2,15,11,7,3], #rotate 90\n",
    "                  [15,14,13,12,12,10,9,8,7,6,5,4,3,2,1,0], #rotate 180\n",
    "                  [3,7,11,15,2,6,10,14,1,5,9,13,0,4,8,12], #rotate 270\n",
    "                  [15,11,7,3,14,10,6,2,13,9,5,1,12,8,4,0], #symmetry y=x\n",
    "                  [0,4,8,12,1,5,9,13,2,6,10,14,3,7,11,15], #symmetry y=-x\n",
    "                   ]\n",
    "    for strategy in ex_strategys:\n",
    "        ex_states.append(rearrange(state,strategy))\n",
    "    return ex_states\n",
    "                "
   ]
  },
  {
   "cell_type": "code",
   "execution_count": 5,
   "metadata": {},
   "outputs": [],
   "source": [
    "def is_win(state):#################################################################################\n",
    "    win_strategys = [[0,1,2,3],[4,5,6,7],[8,9,10,11],[12,13,14,15],[0,4,8,12],[1,5,9,13],[2,6,10,14],[3,7,11,15],[0,5,10,15],[3,6,9,12]]\n",
    "    for strategy in win_strategys:\n",
    "        if is_equal(state,strategy):\n",
    "            return True\n",
    "    return False"
   ]
  },
  {
   "cell_type": "code",
   "execution_count": 6,
   "metadata": {},
   "outputs": [],
   "source": [
    "def rearrange(a,arrange):\n",
    "    ret = []\n",
    "    for i in arrange:\n",
    "        ret.append(a[i])\n",
    "    return ret"
   ]
  },
  {
   "cell_type": "code",
   "execution_count": 7,
   "metadata": {},
   "outputs": [],
   "source": [
    "def is_equal(a, indexes):\n",
    "    for i in indexes:\n",
    "        if not a[i] or a[i] != a[indexes[0]]:\n",
    "            return False\n",
    "    return True"
   ]
  },
  {
   "cell_type": "code",
   "execution_count": 8,
   "metadata": {},
   "outputs": [],
   "source": [
    "def print_state(state):#################################################\n",
    "    model = \"{0[0]} | {0[1]} | {0[2]} | {0[3]}\\n-------------\\n{0[4]} | {0[5]} | {0[6]} | {0[7]}\\n-------------\\n{0[8]} | {0[9]} | {0[10]} | {0[11]}\\n-------------\\n{0[12]} | {0[13]} | {0[14]} | {0[15]}\"\n",
    "    temp = []\n",
    "    for i in state:\n",
    "        if i == 0:\n",
    "            temp.append(\" \")\n",
    "        elif i == 1:\n",
    "            temp.append(\"O\")\n",
    "        else:\n",
    "            temp.append(\"X\")\n",
    "    print(model.format(temp))\n",
    "    \n",
    "    \n",
    "    "
   ]
  },
  {
   "cell_type": "code",
   "execution_count": 9,
   "metadata": {},
   "outputs": [
    {
     "name": "stdout",
     "output_type": "stream",
     "text": [
      "1599644\n"
     ]
    }
   ],
   "source": [
    "if __name__ == \"__main__\":\n",
    "    dfs([0,0,0,0,0,0,0,0,0,0,0,0,0,0,0,0], True)####################################################\n",
    "    print(cnt)#1599644\n",
    "    #for i in range(0,len(ans)):\n",
    "        #print(\"#%d:\" % (i+1))\n",
    "        #print_state(ans[i])"
   ]
  },
  {
   "cell_type": "code",
   "execution_count": 10,
   "metadata": {},
   "outputs": [],
   "source": [
    "ans\n",
    "unique_states = pd.DataFrame(ans)\n",
    "unique_states.to_csv('unique_states_4x4.csv')"
   ]
  },
  {
   "cell_type": "code",
   "execution_count": 11,
   "metadata": {},
   "outputs": [
    {
     "data": {
      "text/plain": [
       "765"
      ]
     },
     "execution_count": 11,
     "metadata": {},
     "output_type": "execute_result"
    }
   ],
   "source": [
    "cnt"
   ]
  },
  {
   "cell_type": "code",
   "execution_count": null,
   "metadata": {},
   "outputs": [],
   "source": []
  },
  {
   "cell_type": "code",
   "execution_count": null,
   "metadata": {},
   "outputs": [],
   "source": []
  }
 ],
 "metadata": {
  "kernelspec": {
   "display_name": "Python 3",
   "language": "python",
   "name": "python3"
  },
  "language_info": {
   "codemirror_mode": {
    "name": "ipython",
    "version": 3
   },
   "file_extension": ".py",
   "mimetype": "text/x-python",
   "name": "python",
   "nbconvert_exporter": "python",
   "pygments_lexer": "ipython3",
   "version": "3.8.5"
  }
 },
 "nbformat": 4,
 "nbformat_minor": 4
}
